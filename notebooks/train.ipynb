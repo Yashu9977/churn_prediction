{
 "cells": [
  {
   "cell_type": "code",
   "execution_count": 9,
   "id": "066815bf-c4ba-4e93-8917-6d74a9717af2",
   "metadata": {},
   "outputs": [],
   "source": [
    "import os \n",
    "import pandas as pd\n",
    "import seaborn as sns\n",
    "import matplotlib.pyplot as plt\n",
    "import scipy\n",
    "import pickle\n",
    "from sklearn.model_selection import train_test_split\n",
    "from sklearn.preprocessing import StandardScaler\n",
    "from sklearn.svm import SVC\n",
    "from sklearn.ensemble import GradientBoostingClassifier, AdaBoostClassifier\n",
    "from sklearn.metrics import confusion_matrix, classification_report\n",
    "from sklearn.model_selection import GridSearchCV"
   ]
  },
  {
   "cell_type": "code",
   "execution_count": 10,
   "id": "4fe9acb7-3380-4726-bb04-335909d50946",
   "metadata": {},
   "outputs": [],
   "source": [
    "parent_dir = os.path.dirname(os.getcwd())"
   ]
  },
  {
   "cell_type": "code",
   "execution_count": 11,
   "id": "7d9c6047-cfb0-4ed9-b3ab-ac877cbffe74",
   "metadata": {},
   "outputs": [],
   "source": [
    "train_data = pd.read_csv(f'{os.path.dirname(os.getcwd())}/references/model_data_train.csv')"
   ]
  },
  {
   "cell_type": "code",
   "execution_count": 12,
   "id": "d95e5048-41ce-49ea-9886-baabac657f85",
   "metadata": {},
   "outputs": [],
   "source": [
    "top_6_features = [\"Tenure\", \"Complain\", \"CashbackAmount\", \"SatisfactionScore\", \"DaySinceLastOrder\", \n",
    "                              \"WarehouseToHome\",\"Churn\"]\n",
    "\n",
    "top_8_features = [\"Tenure\", \"Complain\", \"CashbackAmount\", \"SatisfactionScore\", \"DaySinceLastOrder\", \n",
    "                              \"WarehouseToHome\", \"OrderAmountHikeFromlastYear\", \"NumberOfAddress\",\"Churn\"]\n",
    "\n",
    "top_10_features = [\"Tenure\", \"Complain\", \"CashbackAmount\", \"SatisfactionScore\", \"DaySinceLastOrder\", \n",
    "                   \"WarehouseToHome\", \"OrderAmountHikeFromlastYear\", \"NumberOfAddress\", \"CouponUsed\", \"HourSpendOnApp\",\"Churn\"]"
   ]
  },
  {
   "cell_type": "code",
   "execution_count": 24,
   "id": "ce094589-4232-44dd-b429-8f53b4fc4861",
   "metadata": {},
   "outputs": [],
   "source": [
    "X = train_data[top_10_features].drop('Churn',axis=1)\n",
    "y = train_data['Churn']"
   ]
  },
  {
   "cell_type": "code",
   "execution_count": 25,
   "id": "a38dfa68-b28c-4bb7-93f4-12419185c4a8",
   "metadata": {},
   "outputs": [],
   "source": [
    "X_train, X_test, y_train, y_test = train_test_split(X, y, test_size=0.2, random_state=42)"
   ]
  },
  {
   "cell_type": "code",
   "execution_count": 26,
   "id": "0b3a05cf-38f7-4c88-b563-08acf58903de",
   "metadata": {},
   "outputs": [],
   "source": [
    "def train_evaluate_tune_save_models():\n",
    "    models = {\n",
    "        'Gradient Boosting Classifier': GradientBoostingClassifier(random_state=42),\n",
    "        'AdaBoost Classifier': AdaBoostClassifier(random_state=42)\n",
    "    }\n",
    "    \n",
    "    param_grids = {\n",
    "        'Gradient Boosting Classifier': {\n",
    "            'n_estimators': [100, 200],\n",
    "            'learning_rate': [0.01, 0.1],\n",
    "            'max_depth': [3, 5]\n",
    "        },\n",
    "        'AdaBoost Classifier': {\n",
    "            'n_estimators': [50, 100],\n",
    "            'learning_rate': [0.01, 0.1]\n",
    "        }\n",
    "    }\n",
    "    # Track the best model and highest score\n",
    "    best_model = None\n",
    "    highest_score = 0\n",
    "    \n",
    "    # Split into training and validation sets\n",
    "    # X_train, X_test, y_train, y_test = train_test_split(X, y, test_size=0.2, random_state=42)\n",
    "    \n",
    "    for name, model in models.items():\n",
    "        print(f\"\\nTraining and Evaluating: {name}\")\n",
    "        \n",
    "        # Train the model\n",
    "        model.fit(X_train, y_train)\n",
    "        y_pred = model.predict(X_test)\n",
    "        \n",
    "        print(\"\\nBefore Tuning:\")\n",
    "        print(\"Confusion Matrix:\")\n",
    "        print(confusion_matrix(y_test, y_pred))\n",
    "        print(\"Classification Report:\")\n",
    "        print(classification_report(y_test, y_pred))\n",
    "        \n",
    "        # Hyperparameter tuning using GridSearchCV\n",
    "        grid_search = GridSearchCV(model, param_grids[name], cv=3, scoring='accuracy')\n",
    "        grid_search.fit(X_train, y_train)\n",
    "        best_model_grid = grid_search.best_estimator_\n",
    "        best_score = grid_search.best_score_\n",
    "        \n",
    "        # Predictions with the tuned model\n",
    "        y_pred_tuned = best_model_grid.predict(X_test)\n",
    "        \n",
    "        print(\"\\nAfter Tuning:\")\n",
    "        print(\"Confusion Matrix:\")\n",
    "        print(confusion_matrix(y_test, y_pred_tuned))\n",
    "        print(\"Classification Report:\")\n",
    "        print(classification_report(y_test, y_pred_tuned))\n",
    "        \n",
    "        # Update best model if it has the highest score so far\n",
    "        if best_score > highest_score:\n",
    "            best_model = best_model_grid\n",
    "            highest_score = best_score\n",
    "    \n",
    "    # Save the best model\n",
    "    if best_model:\n",
    "        with open('best_model.pkl', 'wb') as file:\n",
    "            pickle.dump(best_model, file)\n",
    "        print(f\"\\nBest model saved: {best_model}\")"
   ]
  },
  {
   "cell_type": "code",
   "execution_count": 27,
   "id": "1be17e4d-ade1-41f0-9ff3-19e0c3f1d170",
   "metadata": {},
   "outputs": [
    {
     "name": "stdout",
     "output_type": "stream",
     "text": [
      "\n",
      "Training and Evaluating: Gradient Boosting Classifier\n",
      "\n",
      "Before Tuning:\n",
      "Confusion Matrix:\n",
      "[[511  34]\n",
      " [ 64 479]]\n",
      "Classification Report:\n",
      "              precision    recall  f1-score   support\n",
      "\n",
      "         0.0       0.89      0.94      0.91       545\n",
      "         1.0       0.93      0.88      0.91       543\n",
      "\n",
      "    accuracy                           0.91      1088\n",
      "   macro avg       0.91      0.91      0.91      1088\n",
      "weighted avg       0.91      0.91      0.91      1088\n",
      "\n",
      "\n",
      "After Tuning:\n",
      "Confusion Matrix:\n",
      "[[522  23]\n",
      " [ 43 500]]\n",
      "Classification Report:\n",
      "              precision    recall  f1-score   support\n",
      "\n",
      "         0.0       0.92      0.96      0.94       545\n",
      "         1.0       0.96      0.92      0.94       543\n",
      "\n",
      "    accuracy                           0.94      1088\n",
      "   macro avg       0.94      0.94      0.94      1088\n",
      "weighted avg       0.94      0.94      0.94      1088\n",
      "\n",
      "\n",
      "Training and Evaluating: AdaBoost Classifier\n",
      "\n",
      "Before Tuning:\n",
      "Confusion Matrix:\n",
      "[[499  46]\n",
      " [ 70 473]]\n",
      "Classification Report:\n",
      "              precision    recall  f1-score   support\n",
      "\n",
      "         0.0       0.88      0.92      0.90       545\n",
      "         1.0       0.91      0.87      0.89       543\n",
      "\n",
      "    accuracy                           0.89      1088\n",
      "   macro avg       0.89      0.89      0.89      1088\n",
      "weighted avg       0.89      0.89      0.89      1088\n",
      "\n"
     ]
    },
    {
     "name": "stderr",
     "output_type": "stream",
     "text": [
      "/opt/anaconda3/envs/churn_prediction/lib/python3.10/site-packages/sklearn/ensemble/_weight_boosting.py:527: FutureWarning: The SAMME.R algorithm (the default) is deprecated and will be removed in 1.6. Use the SAMME algorithm to circumvent this warning.\n",
      "  warnings.warn(\n",
      "/opt/anaconda3/envs/churn_prediction/lib/python3.10/site-packages/sklearn/ensemble/_weight_boosting.py:527: FutureWarning: The SAMME.R algorithm (the default) is deprecated and will be removed in 1.6. Use the SAMME algorithm to circumvent this warning.\n",
      "  warnings.warn(\n",
      "/opt/anaconda3/envs/churn_prediction/lib/python3.10/site-packages/sklearn/ensemble/_weight_boosting.py:527: FutureWarning: The SAMME.R algorithm (the default) is deprecated and will be removed in 1.6. Use the SAMME algorithm to circumvent this warning.\n",
      "  warnings.warn(\n",
      "/opt/anaconda3/envs/churn_prediction/lib/python3.10/site-packages/sklearn/ensemble/_weight_boosting.py:527: FutureWarning: The SAMME.R algorithm (the default) is deprecated and will be removed in 1.6. Use the SAMME algorithm to circumvent this warning.\n",
      "  warnings.warn(\n",
      "/opt/anaconda3/envs/churn_prediction/lib/python3.10/site-packages/sklearn/ensemble/_weight_boosting.py:527: FutureWarning: The SAMME.R algorithm (the default) is deprecated and will be removed in 1.6. Use the SAMME algorithm to circumvent this warning.\n",
      "  warnings.warn(\n",
      "/opt/anaconda3/envs/churn_prediction/lib/python3.10/site-packages/sklearn/ensemble/_weight_boosting.py:527: FutureWarning: The SAMME.R algorithm (the default) is deprecated and will be removed in 1.6. Use the SAMME algorithm to circumvent this warning.\n",
      "  warnings.warn(\n",
      "/opt/anaconda3/envs/churn_prediction/lib/python3.10/site-packages/sklearn/ensemble/_weight_boosting.py:527: FutureWarning: The SAMME.R algorithm (the default) is deprecated and will be removed in 1.6. Use the SAMME algorithm to circumvent this warning.\n",
      "  warnings.warn(\n",
      "/opt/anaconda3/envs/churn_prediction/lib/python3.10/site-packages/sklearn/ensemble/_weight_boosting.py:527: FutureWarning: The SAMME.R algorithm (the default) is deprecated and will be removed in 1.6. Use the SAMME algorithm to circumvent this warning.\n",
      "  warnings.warn(\n",
      "/opt/anaconda3/envs/churn_prediction/lib/python3.10/site-packages/sklearn/ensemble/_weight_boosting.py:527: FutureWarning: The SAMME.R algorithm (the default) is deprecated and will be removed in 1.6. Use the SAMME algorithm to circumvent this warning.\n",
      "  warnings.warn(\n",
      "/opt/anaconda3/envs/churn_prediction/lib/python3.10/site-packages/sklearn/ensemble/_weight_boosting.py:527: FutureWarning: The SAMME.R algorithm (the default) is deprecated and will be removed in 1.6. Use the SAMME algorithm to circumvent this warning.\n",
      "  warnings.warn(\n",
      "/opt/anaconda3/envs/churn_prediction/lib/python3.10/site-packages/sklearn/ensemble/_weight_boosting.py:527: FutureWarning: The SAMME.R algorithm (the default) is deprecated and will be removed in 1.6. Use the SAMME algorithm to circumvent this warning.\n",
      "  warnings.warn(\n",
      "/opt/anaconda3/envs/churn_prediction/lib/python3.10/site-packages/sklearn/ensemble/_weight_boosting.py:527: FutureWarning: The SAMME.R algorithm (the default) is deprecated and will be removed in 1.6. Use the SAMME algorithm to circumvent this warning.\n",
      "  warnings.warn(\n",
      "/opt/anaconda3/envs/churn_prediction/lib/python3.10/site-packages/sklearn/ensemble/_weight_boosting.py:527: FutureWarning: The SAMME.R algorithm (the default) is deprecated and will be removed in 1.6. Use the SAMME algorithm to circumvent this warning.\n",
      "  warnings.warn(\n",
      "/opt/anaconda3/envs/churn_prediction/lib/python3.10/site-packages/sklearn/ensemble/_weight_boosting.py:527: FutureWarning: The SAMME.R algorithm (the default) is deprecated and will be removed in 1.6. Use the SAMME algorithm to circumvent this warning.\n",
      "  warnings.warn(\n"
     ]
    },
    {
     "name": "stdout",
     "output_type": "stream",
     "text": [
      "\n",
      "After Tuning:\n",
      "Confusion Matrix:\n",
      "[[458  87]\n",
      " [ 74 469]]\n",
      "Classification Report:\n",
      "              precision    recall  f1-score   support\n",
      "\n",
      "         0.0       0.86      0.84      0.85       545\n",
      "         1.0       0.84      0.86      0.85       543\n",
      "\n",
      "    accuracy                           0.85      1088\n",
      "   macro avg       0.85      0.85      0.85      1088\n",
      "weighted avg       0.85      0.85      0.85      1088\n",
      "\n",
      "\n",
      "Best model saved: GradientBoostingClassifier(max_depth=5, n_estimators=200, random_state=42)\n"
     ]
    }
   ],
   "source": [
    "train_evaluate_tune_save_models()"
   ]
  },
  {
   "cell_type": "code",
   "execution_count": null,
   "id": "f4547960-cb96-49a3-b1fb-6425dd031117",
   "metadata": {},
   "outputs": [],
   "source": []
  }
 ],
 "metadata": {
  "kernelspec": {
   "display_name": "Python 3 (ipykernel)",
   "language": "python",
   "name": "python3"
  },
  "language_info": {
   "codemirror_mode": {
    "name": "ipython",
    "version": 3
   },
   "file_extension": ".py",
   "mimetype": "text/x-python",
   "name": "python",
   "nbconvert_exporter": "python",
   "pygments_lexer": "ipython3",
   "version": "3.10.15"
  }
 },
 "nbformat": 4,
 "nbformat_minor": 5
}
